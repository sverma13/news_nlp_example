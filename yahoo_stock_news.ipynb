{
 "cells": [
  {
   "cell_type": "code",
   "execution_count": 1,
   "metadata": {},
   "outputs": [],
   "source": [
    "import requests\n",
    "from bs4 import BeautifulSoup"
   ]
  },
  {
   "cell_type": "markdown",
   "metadata": {},
   "source": [
    "<h3>Scrape Web page</h3>"
   ]
  },
  {
   "cell_type": "code",
   "execution_count": 2,
   "metadata": {},
   "outputs": [],
   "source": [
    "yahoo_stock_url = \"https://finance.yahoo.com/news/stock-market-news-live-updates-february-7-2020-123636729.html?guccounter=1&guce_referrer=aHR0cHM6Ly93d3cuZ29vZ2xlLmNvbS8&guce_referrer_sig=AQAAACQJVclRHuINBzatrdjkDhpJNXUyMVGDkqHgYdYLGAlFNyjIztpt8oW_IJPDlpL2Y6tzHswbLtGMoynnltIp1UQHD9a3GX-7fTmrbhPt19wLVSBfK8o5k4LjGmRn9RMKf21STv2Ht3qLAITlezzNVOTyo3lIyD8AmmzFYgnA3ShG\""
   ]
  },
  {
   "cell_type": "markdown",
   "metadata": {},
   "source": [
    "Make get request to url. This will get the html data of the web page. Beautiful Soup provides an html parser that helps for further text extraction"
   ]
  },
  {
   "cell_type": "code",
   "execution_count": 3,
   "metadata": {},
   "outputs": [],
   "source": [
    "yahoo_page = BeautifulSoup(requests.get(yahoo_stock_url).text)"
   ]
  },
  {
   "cell_type": "markdown",
   "metadata": {},
   "source": [
    "You can find all 'p' tags that ussually contains readable text for the user"
   ]
  },
  {
   "cell_type": "code",
   "execution_count": 10,
   "metadata": {},
   "outputs": [
    {
     "name": "stdout",
     "output_type": "stream",
     "text": [
      "Credit cards, home loans, car insurance... we’d like to make these topics easier for you.\n",
      "U.S. stocks declined for the first time in five sessions, giving back some of the gains from earlier in the week despite a strong January jobs report.\n",
      "—\n",
      "The three major indices ended in the red at the close of Friday’s session. However, each still ended higher since last week, driven by four previous consecutive days of gains.\n"
     ]
    }
   ],
   "source": [
    "for para in yahoo_page.find_all('p')[:4]:\n",
    "    print(para.text)"
   ]
  },
  {
   "cell_type": "markdown",
   "metadata": {},
   "source": [
    "Extract embedded links to do further searching"
   ]
  },
  {
   "cell_type": "code",
   "execution_count": 19,
   "metadata": {},
   "outputs": [
    {
     "name": "stdout",
     "output_type": "stream",
     "text": [
      "https://finance.yahoo.com/\n",
      "https://login.yahoo.com/config/login?.intl=us&.lang=en-US&.src=finance&.done=https%3A%2F%2Ffinance.yahoo.com%2Fnews%2Fstock-market-news-live-updates-february-7-2020-123636729.html%3Fguce_referrer%3DaHR0cHM6Ly93d3cuZ29vZ2xlLmNvbS8%26guce_referrer_sig%3DAQAAACQJVclRHuINBzatrdjkDhpJNXUyMVGDkqHgYdYLGAlFNyjIztpt8oW_IJPDlpL2Y6tzHswbLtGMoynnltIp1UQHD9a3GX-7fTmrbhPt19wLVSBfK8o5k4LjGmRn9RMKf21STv2Ht3qLAITlezzNVOTyo3lIyD8AmmzFYgnA3ShG\n",
      "https://mail.yahoo.com/?.intl=us&.lang=en-US&.partner=none&.src=finance\n",
      "https://finance.yahoo.com\n",
      "https://finance.yahoo.com/watchlists\n"
     ]
    }
   ],
   "source": [
    "for para in yahoo_page.find_all('a')[0:5]:\n",
    "    print(para['href'])"
   ]
  },
  {
   "cell_type": "markdown",
   "metadata": {},
   "source": [
    "<h3>NLP</h3>"
   ]
  },
  {
   "cell_type": "markdown",
   "metadata": {},
   "source": [
    "Spacy is a popular NLP library that has many convinient out of the box text classification functions"
   ]
  },
  {
   "cell_type": "code",
   "execution_count": 20,
   "metadata": {},
   "outputs": [],
   "source": [
    "import spacy\n",
    "from spacy.symbols import nsubj, VERB"
   ]
  },
  {
   "cell_type": "code",
   "execution_count": 31,
   "metadata": {},
   "outputs": [],
   "source": [
    "page_text = \" \".join([p.text for p in yahoo_page.find_all('p')])"
   ]
  },
  {
   "cell_type": "code",
   "execution_count": 34,
   "metadata": {},
   "outputs": [
    {
     "data": {
      "text/plain": [
       "'Credit cards, home loans, car insurance... we’d like to make these topics easier for you. U.S. stock'"
      ]
     },
     "execution_count": 34,
     "metadata": {},
     "output_type": "execute_result"
    }
   ],
   "source": [
    "page_text[:100]"
   ]
  },
  {
   "cell_type": "code",
   "execution_count": 35,
   "metadata": {},
   "outputs": [],
   "source": [
    "nlp = spacy.load(\"en_core_web_sm\")\n",
    "doc = nlp(page_text)"
   ]
  },
  {
   "cell_type": "code",
   "execution_count": 45,
   "metadata": {},
   "outputs": [
    {
     "name": "stdout",
     "output_type": "stream",
     "text": [
      "we like\n",
      "’d like\n",
      "stocks declined\n",
      "indices ended\n",
      "each ended\n",
      "S&P was\n",
      "Dow rose\n",
      "Nasdaq increased\n",
      "markets settled\n",
      "S&P held\n",
      "Dow was\n",
      "moves were\n",
      "Edgerton says\n",
      "we put\n",
      "process is\n",
      "Biden leads\n",
      "Buttigieg won\n",
      "Bloomberg rising\n",
      "it looks\n",
      "Trump defeat\n",
      "markets put\n",
      "Sanders were\n",
      "We think\n",
      "probability becoming\n",
      "logic is\n",
      "which echoes\n",
      "changes have\n",
      "House need\n",
      "Edgerton wrote\n",
      "economists viewed\n",
      "number had\n",
      "Farooqi ’s\n",
      "rate remains\n",
      "pace moderated\n",
      "reading is\n",
      "data remain\n",
      "Fed assesses\n",
      "question is\n",
      "endurance continue\n",
      "additions were\n",
      "data reiterates\n",
      "expansion continues\n",
      "increases were\n",
      "we suspect\n",
      "this be\n",
      "employers attempt\n",
      "report provided\n",
      "we reached\n",
      "surveys continue\n",
      "data outperformed\n",
      "this was\n",
      "trends are\n",
      "increase seem\n",
      "it is\n",
      "rate increased\n",
      "signs point\n",
      "market continues\n",
      "indices opened\n",
      "sectors led\n",
      "prices declined\n",
      "moves were\n",
      "stock is\n",
      "bank accepted\n",
      "that rocked\n",
      "Grut breaks\n",
      "which includes\n",
      "Thiam lost\n",
      "market went\n",
      "rate ticked\n",
      "workers entered\n",
      "which drove\n",
      "number was\n",
      "futures remain\n",
      "fears continue\n",
      "Contracts were\n",
      "S&P was\n",
      "rate held\n",
      "which disappointed\n",
      "investors continued\n",
      "toll totaled\n",
      "Carmakers extended\n",
      "moves were\n",
      "{’s, remain, remain, drove, says, were, rocked, echoes, continues, disappointed, continued, held, wrote, defeat, were, moderated, attempt, increased, ended, is, increased, continues, rose, looks, reiterates, breaks, is, were, entered, remains, accepted, was, was, held, put, includes, continue, like, were, won, declined, continue, viewed, is, point, was, opened, reached, extended, led, had, provided, ticked, ended, outperformed, was, rising, settled, are, is, went, is, becoming, were, assesses, think, be, was, were, have, leads, declined, continue, put, seem, totaled, suspect, lost, need, is, were}\n"
     ]
    }
   ],
   "source": [
    "verbs = set()\n",
    "for possible_subject in doc:\n",
    "    if possible_subject.dep == nsubj and possible_subject.head.pos == VERB:\n",
    "        print(possible_subject,possible_subject.head)\n",
    "        verbs.add(possible_subject.head)\n",
    "print(verbs)"
   ]
  },
  {
   "cell_type": "code",
   "execution_count": null,
   "metadata": {},
   "outputs": [],
   "source": []
  }
 ],
 "metadata": {
  "kernelspec": {
   "display_name": "python3",
   "language": "python3",
   "name": "python3"
  },
  "language_info": {
   "codemirror_mode": {
    "name": "ipython",
    "version": 3
   },
   "file_extension": ".py",
   "mimetype": "text/x-python",
   "name": "python",
   "nbconvert_exporter": "python",
   "pygments_lexer": "ipython3",
   "version": "3.6.5"
  }
 },
 "nbformat": 4,
 "nbformat_minor": 2
}
